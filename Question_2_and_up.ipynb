{
 "cells": [
  {
   "cell_type": "code",
   "execution_count": 1,
   "metadata": {},
   "outputs": [
    {
     "name": "stdout",
     "output_type": "stream",
     "text": [
      "\n",
      "loaded mnist data!\n",
      "test_data (10000, 1, 28, 28)\n",
      "training_data (60000, 1, 28, 28)\n",
      "training_labels (60000,)\n",
      "\n",
      "loaded spam data!\n",
      "test_data (1000, 37)\n",
      "training_data (4171, 37)\n",
      "training_labels (4171,)\n",
      "\n",
      "loaded toy data!\n",
      "test_data (0,)\n",
      "training_data (1000, 2)\n",
      "training_labels (1000,)\n"
     ]
    }
   ],
   "source": [
    "import sys\n",
    "if sys.version_info[0] < 3:\n",
    "    raise Exception(\"Python 3 not detected.\")\n",
    "import numpy as np\n",
    "import matplotlib.pyplot as plt\n",
    "from sklearn import svm\n",
    "from scipy import io\n",
    "if __name__ == \"__main__\":\n",
    "    for data_name in [\"mnist\", \"spam\", \"toy\"]:\n",
    "        data = np.load(f\"/Users/alitout/Desktop/VSCode_Work/CS189/hw1/data/{data_name}-data.npz\")\n",
    "        print(\"\\nloaded %s data!\" % data_name)\n",
    "        fields = \"test_data\", \"training_data\", \"training_labels\"\n",
    "        for field in fields:\n",
    "            print(field, data[field].shape)"
   ]
  },
  {
   "cell_type": "code",
   "execution_count": 2,
   "metadata": {},
   "outputs": [],
   "source": [
    "data = np.load(\"/Users/alitout/Desktop/VSCode_Work/CS189/hw1/data/mnist-data.npz\")"
   ]
  },
  {
   "cell_type": "code",
   "execution_count": 3,
   "metadata": {},
   "outputs": [
    {
     "data": {
      "text/plain": [
       "array([[[[0, 0, 0, ..., 0, 0, 0],\n",
       "         [0, 0, 0, ..., 0, 0, 0],\n",
       "         [0, 0, 0, ..., 0, 0, 0],\n",
       "         ...,\n",
       "         [0, 0, 0, ..., 0, 0, 0],\n",
       "         [0, 0, 0, ..., 0, 0, 0],\n",
       "         [0, 0, 0, ..., 0, 0, 0]]],\n",
       "\n",
       "\n",
       "       [[[0, 0, 0, ..., 0, 0, 0],\n",
       "         [0, 0, 0, ..., 0, 0, 0],\n",
       "         [0, 0, 0, ..., 0, 0, 0],\n",
       "         ...,\n",
       "         [0, 0, 0, ..., 0, 0, 0],\n",
       "         [0, 0, 0, ..., 0, 0, 0],\n",
       "         [0, 0, 0, ..., 0, 0, 0]]],\n",
       "\n",
       "\n",
       "       [[[0, 0, 0, ..., 0, 0, 0],\n",
       "         [0, 0, 0, ..., 0, 0, 0],\n",
       "         [0, 0, 0, ..., 0, 0, 0],\n",
       "         ...,\n",
       "         [0, 0, 0, ..., 0, 0, 0],\n",
       "         [0, 0, 0, ..., 0, 0, 0],\n",
       "         [0, 0, 0, ..., 0, 0, 0]]],\n",
       "\n",
       "\n",
       "       ...,\n",
       "\n",
       "\n",
       "       [[[0, 0, 0, ..., 0, 0, 0],\n",
       "         [0, 0, 0, ..., 0, 0, 0],\n",
       "         [0, 0, 0, ..., 0, 0, 0],\n",
       "         ...,\n",
       "         [0, 0, 0, ..., 0, 0, 0],\n",
       "         [0, 0, 0, ..., 0, 0, 0],\n",
       "         [0, 0, 0, ..., 0, 0, 0]]],\n",
       "\n",
       "\n",
       "       [[[0, 0, 0, ..., 0, 0, 0],\n",
       "         [0, 0, 0, ..., 0, 0, 0],\n",
       "         [0, 0, 0, ..., 0, 0, 0],\n",
       "         ...,\n",
       "         [0, 0, 0, ..., 0, 0, 0],\n",
       "         [0, 0, 0, ..., 0, 0, 0],\n",
       "         [0, 0, 0, ..., 0, 0, 0]]],\n",
       "\n",
       "\n",
       "       [[[0, 0, 0, ..., 0, 0, 0],\n",
       "         [0, 0, 0, ..., 0, 0, 0],\n",
       "         [0, 0, 0, ..., 0, 0, 0],\n",
       "         ...,\n",
       "         [0, 0, 0, ..., 0, 0, 0],\n",
       "         [0, 0, 0, ..., 0, 0, 0],\n",
       "         [0, 0, 0, ..., 0, 0, 0]]]], dtype=uint8)"
      ]
     },
     "execution_count": 3,
     "metadata": {},
     "output_type": "execute_result"
    }
   ],
   "source": [
    "data['training_data']"
   ]
  },
  {
   "cell_type": "code",
   "execution_count": 4,
   "metadata": {},
   "outputs": [
    {
     "data": {
      "text/plain": [
       "(60000, 1, 28, 28)"
      ]
     },
     "execution_count": 4,
     "metadata": {},
     "output_type": "execute_result"
    }
   ],
   "source": [
    "data['training_data'].shape"
   ]
  },
  {
   "cell_type": "code",
   "execution_count": 5,
   "metadata": {},
   "outputs": [],
   "source": [
    "data_spam = np.load(\"/Users/alitout/Desktop/VSCode_Work/CS189/hw1/data/spam-data.npz\")"
   ]
  },
  {
   "cell_type": "code",
   "execution_count": 6,
   "metadata": {},
   "outputs": [
    {
     "data": {
      "text/plain": [
       "array([[0., 0., 0., ..., 0., 3., 0.],\n",
       "       [0., 0., 0., ..., 0., 0., 0.],\n",
       "       [0., 0., 0., ..., 0., 0., 0.],\n",
       "       ...,\n",
       "       [0., 0., 0., ..., 0., 0., 0.],\n",
       "       [0., 0., 0., ..., 0., 0., 0.],\n",
       "       [0., 0., 0., ..., 0., 0., 0.]])"
      ]
     },
     "execution_count": 6,
     "metadata": {},
     "output_type": "execute_result"
    }
   ],
   "source": [
    "data_spam['training_data']"
   ]
  },
  {
   "cell_type": "code",
   "execution_count": 7,
   "metadata": {},
   "outputs": [
    {
     "data": {
      "text/plain": [
       "array([1, 1, 1, ..., 0, 0, 0])"
      ]
     },
     "execution_count": 7,
     "metadata": {},
     "output_type": "execute_result"
    }
   ],
   "source": [
    "data_spam['training_labels']"
   ]
  },
  {
   "cell_type": "code",
   "execution_count": 8,
   "metadata": {},
   "outputs": [],
   "source": [
    "import random\n",
    "random.seed(1)\n",
    "arr = list(np.arange(len(data_spam['training_data'])))\n",
    "t = random.sample(arr, len(arr))\n",
    "master_spam = data_spam['training_data'][t]\n",
    "master_labels = data_spam['training_labels'][t]\n",
    "\n",
    "arr_2 = list(np.arange(len(data['training_data'])))\n",
    "t_2 = random.sample(arr_2, len(arr_2))\n",
    "master_mnist = data['training_data'][t_2]\n",
    "master_mnist_labels = data['training_labels'][t_2]"
   ]
  },
  {
   "cell_type": "code",
   "execution_count": 9,
   "metadata": {},
   "outputs": [],
   "source": [
    "#valid_data_sample = shuffled_data_sample[:int(len(shuffled_data_sample)*0.8)]\n",
    "#valid_data_labels = shuffled_labels[:int(len(shuffled_labels)*0.8)]\n",
    "\n",
    "shuffled_data_sample = master_spam[:int(len(master_spam)*0.8)]\n",
    "shuffled_labels = master_labels[:int(len(master_labels)*0.8)]\n",
    "valid_data_sample = master_spam[int(len(master_spam)*0.8):]\n",
    "valid_data_labels = master_labels[int(len(master_labels)*0.8):]\n",
    "\n",
    "shuffled_mnist_data = master_mnist[10000:]\n",
    "shuffled_mnist_labels = master_mnist_labels[10000:]\n",
    "valid_mnist_data = master_mnist[:10000]\n",
    "valid_mnist_labels = master_mnist_labels[:10000]"
   ]
  },
  {
   "cell_type": "code",
   "execution_count": 10,
   "metadata": {},
   "outputs": [],
   "source": [
    "#Part b"
   ]
  },
  {
   "cell_type": "code",
   "execution_count": 45,
   "metadata": {},
   "outputs": [],
   "source": [
    "def evaluation(y_true, y_pred):\n",
    "    score = 0\n",
    "    for i in range(len(y_true)):\n",
    "        if y_true[i] == y_pred[i]:\n",
    "            score = score + 1\n",
    "    return score/len(y_true)"
   ]
  },
  {
   "cell_type": "markdown",
   "metadata": {},
   "source": [
    "Question 4"
   ]
  },
  {
   "cell_type": "code",
   "execution_count": 12,
   "metadata": {},
   "outputs": [],
   "source": [
    "from sklearn.svm import LinearSVC\n",
    "from sklearn.svm import SVC\n",
    "sv_lin = LinearSVC()\n",
    "def trainer(num):\n",
    "    sv_lin.fit(shuffled_data_sample[:num], shuffled_labels[:num])\n",
    "    y_pred_valid = sv_lin.predict(valid_data_sample)\n",
    "    eval_num_valid = evaluation(valid_data_labels, y_pred_valid)\n",
    "\n",
    "    y_pred_train = sv_lin.predict(shuffled_data_sample[:num])\n",
    "    eval_num_train =  evaluation(shuffled_labels[:num], y_pred_train)\n",
    "\n",
    "    return eval_num_train, eval_num_valid\n",
    "\n"
   ]
  },
  {
   "cell_type": "code",
   "execution_count": 13,
   "metadata": {},
   "outputs": [
    {
     "name": "stderr",
     "output_type": "stream",
     "text": [
      "/Library/Frameworks/Python.framework/Versions/3.10/lib/python3.10/site-packages/sklearn/svm/_base.py:1244: ConvergenceWarning: Liblinear failed to converge, increase the number of iterations.\n",
      "  warnings.warn(\n",
      "/Library/Frameworks/Python.framework/Versions/3.10/lib/python3.10/site-packages/sklearn/svm/_base.py:1244: ConvergenceWarning: Liblinear failed to converge, increase the number of iterations.\n",
      "  warnings.warn(\n",
      "/Library/Frameworks/Python.framework/Versions/3.10/lib/python3.10/site-packages/sklearn/svm/_base.py:1244: ConvergenceWarning: Liblinear failed to converge, increase the number of iterations.\n",
      "  warnings.warn(\n",
      "/Library/Frameworks/Python.framework/Versions/3.10/lib/python3.10/site-packages/sklearn/svm/_base.py:1244: ConvergenceWarning: Liblinear failed to converge, increase the number of iterations.\n",
      "  warnings.warn(\n",
      "/Library/Frameworks/Python.framework/Versions/3.10/lib/python3.10/site-packages/sklearn/svm/_base.py:1244: ConvergenceWarning: Liblinear failed to converge, increase the number of iterations.\n",
      "  warnings.warn(\n",
      "/Library/Frameworks/Python.framework/Versions/3.10/lib/python3.10/site-packages/sklearn/svm/_base.py:1244: ConvergenceWarning: Liblinear failed to converge, increase the number of iterations.\n",
      "  warnings.warn(\n"
     ]
    }
   ],
   "source": [
    "eval_100_train, eval_100_valid = trainer(100)\n",
    "eval_200_train, eval_200_valid = trainer(200)\n",
    "eval_500_train, eval_500_valid = trainer(500)\n",
    "eval_1000_train, eval_1000_valid = trainer(1000)\n",
    "eval_2000_train, eval_2000_valid = trainer(2000)\n",
    "eval_all_train, eval_all_valid = trainer(len(shuffled_labels))"
   ]
  },
  {
   "cell_type": "code",
   "execution_count": 14,
   "metadata": {},
   "outputs": [
    {
     "data": {
      "text/plain": [
       "<matplotlib.legend.Legend at 0x127e52530>"
      ]
     },
     "execution_count": 14,
     "metadata": {},
     "output_type": "execute_result"
    },
    {
     "data": {
      "image/png": "[encoded data removed]",
      "text/plain": [
       "<Figure size 432x288 with 1 Axes>"
      ]
     },
     "metadata": {
      "needs_background": "light"
     },
     "output_type": "display_data"
    }
   ],
   "source": [
    "plt.title('Data Accuracy')\n",
    "plt.xlabel('# of Examples')\n",
    "plt.ylabel('Accuracy')\n",
    "plt.plot([100, 200, 500, 1000, 2000, len(shuffled_labels)], [eval_100_train, eval_200_train, eval_500_train, eval_1000_train, eval_2000_train, eval_all_train], label = 'train')\n",
    "plt.plot([100, 200, 500, 1000, 2000, len(shuffled_labels)], [eval_100_valid, eval_200_valid, eval_500_valid, eval_1000_valid, eval_2000_valid, eval_all_valid], label = 'validation')\n",
    "plt.legend()"
   ]
  },
  {
   "cell_type": "code",
   "execution_count": 15,
   "metadata": {},
   "outputs": [],
   "source": [
    "shuffled_mnist_data = shuffled_mnist_data.reshape(len(shuffled_mnist_data), -1)\n",
    "valid_mnist_data = valid_mnist_data.reshape(len(valid_mnist_data), -1)"
   ]
  },
  {
   "cell_type": "code",
   "execution_count": 16,
   "metadata": {},
   "outputs": [],
   "source": [
    "def trainer(num):\n",
    "    sv_lin.fit(shuffled_mnist_data[:num], shuffled_mnist_labels[:num])\n",
    "    y_pred_valid = sv_lin.predict(valid_mnist_data)\n",
    "    eval_num_valid = evaluation(valid_mnist_labels, y_pred_valid)\n",
    "\n",
    "    y_pred_train = sv_lin.predict(shuffled_mnist_data[:num])\n",
    "    eval_num_train =  evaluation(shuffled_mnist_labels[:num], y_pred_train)\n",
    "\n",
    "    return eval_num_train, eval_num_valid"
   ]
  },
  {
   "cell_type": "code",
   "execution_count": 17,
   "metadata": {},
   "outputs": [
    {
     "name": "stderr",
     "output_type": "stream",
     "text": [
      "/Library/Frameworks/Python.framework/Versions/3.10/lib/python3.10/site-packages/sklearn/svm/_base.py:1244: ConvergenceWarning: Liblinear failed to converge, increase the number of iterations.\n",
      "  warnings.warn(\n",
      "/Library/Frameworks/Python.framework/Versions/3.10/lib/python3.10/site-packages/sklearn/svm/_base.py:1244: ConvergenceWarning: Liblinear failed to converge, increase the number of iterations.\n",
      "  warnings.warn(\n",
      "/Library/Frameworks/Python.framework/Versions/3.10/lib/python3.10/site-packages/sklearn/svm/_base.py:1244: ConvergenceWarning: Liblinear failed to converge, increase the number of iterations.\n",
      "  warnings.warn(\n",
      "/Library/Frameworks/Python.framework/Versions/3.10/lib/python3.10/site-packages/sklearn/svm/_base.py:1244: ConvergenceWarning: Liblinear failed to converge, increase the number of iterations.\n",
      "  warnings.warn(\n"
     ]
    }
   ],
   "source": [
    "eval_100_train, eval_100_valid = trainer(100)\n",
    "eval_200_train, eval_200_valid = trainer(200)\n",
    "eval_500_train, eval_500_valid = trainer(500)\n",
    "eval_1000_train, eval_1000_valid = trainer(1000)\n",
    "eval_2000_train, eval_2000_valid = trainer(2000)\n",
    "eval_5000_train, eval_5000_valid = trainer(5000)\n",
    "eval_10000_train, eval_10000_valid = trainer(10000)"
   ]
  },
  {
   "cell_type": "code",
   "execution_count": 18,
   "metadata": {},
   "outputs": [
    {
     "data": {
      "text/plain": [
       "<matplotlib.legend.Legend at 0x17f48a5f0>"
      ]
     },
     "execution_count": 18,
     "metadata": {},
     "output_type": "execute_result"
    },
    {
     "data": {
      "image/png": "[encoded data removed]",
      "text/plain": [
       "<Figure size 432x288 with 1 Axes>"
      ]
     },
     "metadata": {
      "needs_background": "light"
     },
     "output_type": "display_data"
    }
   ],
   "source": [
    "plt.title('Data Accuracy')\n",
    "plt.xlabel('# of Examples')\n",
    "plt.ylabel('Accuracy')\n",
    "plt.plot([100, 200, 500, 1000, 2000, 5000, 10000], [eval_100_train, eval_200_train, eval_500_train, eval_1000_train, eval_2000_train, eval_5000_train, eval_10000_train], label = 'train')\n",
    "plt.plot([100, 200, 500, 1000, 2000, 5000, 10000], [eval_100_valid, eval_200_valid, eval_500_valid, eval_1000_valid, eval_2000_valid, eval_5000_valid, eval_10000_valid], label = 'validation')\n",
    "plt.legend()"
   ]
  },
  {
   "cell_type": "markdown",
   "metadata": {},
   "source": [
    "Question 5 "
   ]
  },
  {
   "cell_type": "code",
   "execution_count": 19,
   "metadata": {},
   "outputs": [],
   "source": [
    "from sklearn.svm import SVC"
   ]
  },
  {
   "cell_type": "code",
   "execution_count": 20,
   "metadata": {},
   "outputs": [
    {
     "name": "stderr",
     "output_type": "stream",
     "text": [
      "/Library/Frameworks/Python.framework/Versions/3.10/lib/python3.10/site-packages/sklearn/svm/_base.py:1244: ConvergenceWarning: Liblinear failed to converge, increase the number of iterations.\n",
      "  warnings.warn(\n",
      "/Library/Frameworks/Python.framework/Versions/3.10/lib/python3.10/site-packages/sklearn/svm/_base.py:1244: ConvergenceWarning: Liblinear failed to converge, increase the number of iterations.\n",
      "  warnings.warn(\n",
      "/Library/Frameworks/Python.framework/Versions/3.10/lib/python3.10/site-packages/sklearn/svm/_base.py:1244: ConvergenceWarning: Liblinear failed to converge, increase the number of iterations.\n",
      "  warnings.warn(\n",
      "/Library/Frameworks/Python.framework/Versions/3.10/lib/python3.10/site-packages/sklearn/svm/_base.py:1244: ConvergenceWarning: Liblinear failed to converge, increase the number of iterations.\n",
      "  warnings.warn(\n",
      "/Library/Frameworks/Python.framework/Versions/3.10/lib/python3.10/site-packages/sklearn/svm/_base.py:1244: ConvergenceWarning: Liblinear failed to converge, increase the number of iterations.\n",
      "  warnings.warn(\n",
      "/Library/Frameworks/Python.framework/Versions/3.10/lib/python3.10/site-packages/sklearn/svm/_base.py:1244: ConvergenceWarning: Liblinear failed to converge, increase the number of iterations.\n",
      "  warnings.warn(\n"
     ]
    },
    {
     "name": "stdout",
     "output_type": "stream",
     "text": [
      "The best C is: 1e-06 with an accuracy of: 0.9056\n"
     ]
    },
    {
     "name": "stderr",
     "output_type": "stream",
     "text": [
      "/Library/Frameworks/Python.framework/Versions/3.10/lib/python3.10/site-packages/sklearn/svm/_base.py:1244: ConvergenceWarning: Liblinear failed to converge, increase the number of iterations.\n",
      "  warnings.warn(\n"
     ]
    }
   ],
   "source": [
    "ans = 0\n",
    "ans_ind = 0\n",
    "for i in [0.000001, 0.00001, 0.0001, 0.001, 0.01, 0.5, 0.1, 1]:\n",
    "    svc = LinearSVC(C = i)\n",
    "    svc.fit(shuffled_mnist_data[:20000], shuffled_mnist_labels[:20000])\n",
    "    y_pred_valid = svc.predict(valid_mnist_data)\n",
    "    eval_num_valid = evaluation(valid_mnist_labels, y_pred_valid)\n",
    "    if ans < eval_num_valid:\n",
    "        ans = eval_num_valid\n",
    "        ans_ind = i\n",
    "print('The best C is:', ans_ind, 'with an accuracy of:', ans)"
   ]
  },
  {
   "cell_type": "markdown",
   "metadata": {},
   "source": [
    "Question 6"
   ]
  },
  {
   "cell_type": "code",
   "execution_count": 21,
   "metadata": {},
   "outputs": [],
   "source": [
    "import warnings\n",
    "warnings.filterwarnings(\"ignore\")"
   ]
  },
  {
   "cell_type": "code",
   "execution_count": 22,
   "metadata": {},
   "outputs": [],
   "source": [
    "def K_Fold_runner(C_val=1):\n",
    "    sv_lin = LinearSVC(C = C_val)\n",
    "    arr = list(np.arange(len(data_spam['training_data'])))\n",
    "    t = random.sample(arr, len(arr))\n",
    "    master_spam = data_spam['training_data'][t]\n",
    "    master_labels = data_spam['training_labels'][t]\n",
    "    results = []\n",
    "    for part in [0.2, 0.4, 0.6, 0.8, 1]:\n",
    "        left = part - 0.2\n",
    "        right = part\n",
    "        valid_data_sample = master_spam[int(len(master_spam)*left):int(len(master_spam)*right)]\n",
    "        valid_data_labels = master_labels[int(len(master_spam)*left):int(len(master_spam)*right)]\n",
    "\n",
    "        shuffled_data_sample = np.array([master_spam[i] for i in range(len(master_spam)) if i not in range(int(len(master_spam)*left), int(len(master_spam)*right))])\n",
    "        shuffled_labels = np.array([master_labels[i] for i in range(len(master_labels)) if i not in range(int(len(master_labels)*left), int(len(master_labels)*right))])\n",
    "\n",
    "        sv_lin.fit(shuffled_data_sample, shuffled_labels)\n",
    "        y_pred = sv_lin.predict(valid_data_sample)\n",
    "        results.append(evaluation(valid_data_labels, y_pred))\n",
    "    return np.mean(results)"
   ]
  },
  {
   "cell_type": "code",
   "execution_count": 23,
   "metadata": {},
   "outputs": [
    {
     "name": "stdout",
     "output_type": "stream",
     "text": [
      "Accuracy for C=0.01 is:_0.7954941914731688\n",
      "Accuracy for C=0.5 is:_0.7981309323798447\n",
      "Accuracy for C=0.1 is:_0.7940562041384855\n",
      "Accuracy for C=1 is:_0.8010115021755052\n",
      "Accuracy for C=10 is:_0.8019618317322189\n",
      "Accuracy for C=100 is:_0.799573514840822\n",
      "Accuracy for C=200 is:_0.791651804305059\n",
      "Accuracy for C=500 is:_0.7681600827122732\n",
      "Best is: 10 with accuracy: 0.8019618317322189\n"
     ]
    }
   ],
   "source": [
    "best_ind = 0\n",
    "best_acc = 0\n",
    "for i in [0.01, 0.5, 0.1, 1, 10, 100, 200, 500]:\n",
    "    result = K_Fold_runner(i)\n",
    "    if best_acc < result:\n",
    "        best_acc = result\n",
    "        best_ind = i\n",
    "    print(f\"Accuracy for C={i} is:_{result}\")\n",
    "print('Best is:', best_ind, \"with accuracy:\", best_acc)"
   ]
  },
  {
   "cell_type": "markdown",
   "metadata": {},
   "source": [
    "Question 7"
   ]
  },
  {
   "cell_type": "code",
   "execution_count": 85,
   "metadata": {},
   "outputs": [],
   "source": [
    "import pandas as pd\n",
    "def results_to_csv(y_test):\n",
    "    y_test = y_test.astype(int)\n",
    "    df = pd.DataFrame({'Category': y_test})\n",
    "    df.index += 1 # Ensures that the index starts at 1\n",
    "    df.to_csv('submission.csv', index_label='Id')"
   ]
  },
  {
   "cell_type": "code",
   "execution_count": 27,
   "metadata": {},
   "outputs": [
    {
     "data": {
      "text/plain": [
       "{'C': 100, 'class_weight': None, 'degree': 3, 'kernel': 'rbf'}"
      ]
     },
     "execution_count": 27,
     "metadata": {},
     "output_type": "execute_result"
    }
   ],
   "source": [
    "from sklearn.svm import SVC\n",
    "from sklearn.model_selection import GridSearchCV\n",
    "param_grid = {'C':[1,10,100, 200], 'kernel':['rbf', 'poly', 'linear'], 'degree':[3,4], 'class_weight':[None, 'balanced']}\n",
    "sv = SVC()\n",
    "grid = GridSearchCV(sv, param_grid)\n",
    "grid.fit(master_spam, master_labels)\n",
    "grid.best_params_\n"
   ]
  },
  {
   "cell_type": "code",
   "execution_count": 28,
   "metadata": {},
   "outputs": [
    {
     "data": {
      "text/plain": [
       "0.8261761369347637"
      ]
     },
     "execution_count": 28,
     "metadata": {},
     "output_type": "execute_result"
    }
   ],
   "source": [
    "grid.best_score_"
   ]
  },
  {
   "cell_type": "code",
   "execution_count": 11,
   "metadata": {},
   "outputs": [],
   "source": [
    "from sklearn.svm import SVC\n",
    "final_sv = SVC(C = 100, kernel = 'rbf')\n",
    "final_sv.fit(master_spam, master_labels)\n",
    "y_finals = final_sv.predict(data_spam['test_data'])\n",
    "results_to_csv(y_finals)"
   ]
  },
  {
   "cell_type": "code",
   "execution_count": 28,
   "metadata": {},
   "outputs": [
    {
     "name": "stdout",
     "output_type": "stream",
     "text": [
      "Fitting 5 folds for each of 16 candidates, totalling 80 fits\n"
     ]
    },
    {
     "data": {
      "text/html": [
       "<style>#sk-container-id-1 {color: black;background-color: white;}#sk-container-id-1 pre{padding: 0;}#sk-container-id-1 div.sk-toggleable {background-color: white;}#sk-container-id-1 label.sk-toggleable__label {cursor: pointer;display: block;width: 100%;margin-bottom: 0;padding: 0.3em;box-sizing: border-box;text-align: center;}#sk-container-id-1 label.sk-toggleable__label-arrow:before {content: \"▸\";float: left;margin-right: 0.25em;color: #696969;}#sk-container-id-1 label.sk-toggleable__label-arrow:hover:before {color: black;}#sk-container-id-1 div.sk-estimator:hover label.sk-toggleable__label-arrow:before {color: black;}#sk-container-id-1 div.sk-toggleable__content {max-height: 0;max-width: 0;overflow: hidden;text-align: left;background-color: #f0f8ff;}#sk-container-id-1 div.sk-toggleable__content pre {margin: 0.2em;color: black;border-radius: 0.25em;background-color: #f0f8ff;}#sk-container-id-1 input.sk-toggleable__control:checked~div.sk-toggleable__content {max-height: 200px;max-width: 100%;overflow: auto;}#sk-container-id-1 input.sk-toggleable__control:checked~label.sk-toggleable__label-arrow:before {content: \"▾\";}#sk-container-id-1 div.sk-estimator input.sk-toggleable__control:checked~label.sk-toggleable__label {background-color: #d4ebff;}#sk-container-id-1 div.sk-label input.sk-toggleable__control:checked~label.sk-toggleable__label {background-color: #d4ebff;}#sk-container-id-1 input.sk-hidden--visually {border: 0;clip: rect(1px 1px 1px 1px);clip: rect(1px, 1px, 1px, 1px);height: 1px;margin: -1px;overflow: hidden;padding: 0;position: absolute;width: 1px;}#sk-container-id-1 div.sk-estimator {font-family: monospace;background-color: #f0f8ff;border: 1px dotted black;border-radius: 0.25em;box-sizing: border-box;margin-bottom: 0.5em;}#sk-container-id-1 div.sk-estimator:hover {background-color: #d4ebff;}#sk-container-id-1 div.sk-parallel-item::after {content: \"\";width: 100%;border-bottom: 1px solid gray;flex-grow: 1;}#sk-container-id-1 div.sk-label:hover label.sk-toggleable__label {background-color: #d4ebff;}#sk-container-id-1 div.sk-serial::before {content: \"\";position: absolute;border-left: 1px solid gray;box-sizing: border-box;top: 0;bottom: 0;left: 50%;z-index: 0;}#sk-container-id-1 div.sk-serial {display: flex;flex-direction: column;align-items: center;background-color: white;padding-right: 0.2em;padding-left: 0.2em;position: relative;}#sk-container-id-1 div.sk-item {position: relative;z-index: 1;}#sk-container-id-1 div.sk-parallel {display: flex;align-items: stretch;justify-content: center;background-color: white;position: relative;}#sk-container-id-1 div.sk-item::before, #sk-container-id-1 div.sk-parallel-item::before {content: \"\";position: absolute;border-left: 1px solid gray;box-sizing: border-box;top: 0;bottom: 0;left: 50%;z-index: -1;}#sk-container-id-1 div.sk-parallel-item {display: flex;flex-direction: column;z-index: 1;position: relative;background-color: white;}#sk-container-id-1 div.sk-parallel-item:first-child::after {align-self: flex-end;width: 50%;}#sk-container-id-1 div.sk-parallel-item:last-child::after {align-self: flex-start;width: 50%;}#sk-container-id-1 div.sk-parallel-item:only-child::after {width: 0;}#sk-container-id-1 div.sk-dashed-wrapped {border: 1px dashed gray;margin: 0 0.4em 0.5em 0.4em;box-sizing: border-box;padding-bottom: 0.4em;background-color: white;}#sk-container-id-1 div.sk-label label {font-family: monospace;font-weight: bold;display: inline-block;line-height: 1.2em;}#sk-container-id-1 div.sk-label-container {text-align: center;}#sk-container-id-1 div.sk-container {/* jupyter's `normalize.less` sets `[hidden] { display: none; }` but bootstrap.min.css set `[hidden] { display: none !important; }` so we also need the `!important` here to be able to override the default hidden behavior on the sphinx rendered scikit-learn.org. See: https://github.com/scikit-learn/scikit-learn/issues/21755 */display: inline-block !important;position: relative;}#sk-container-id-1 div.sk-text-repr-fallback {display: none;}</style><div id=\"sk-container-id-1\" class=\"sk-top-container\"><div class=\"sk-text-repr-fallback\"><pre>GridSearchCV(estimator=LinearSVC(),\n",
       "             param_grid={&#x27;C&#x27;: [1e-06, 1e-08, 0.01, 1],\n",
       "                         &#x27;class_weight&#x27;: [None, &#x27;balanced&#x27;],\n",
       "                         &#x27;penalty&#x27;: [&#x27;l1&#x27;, &#x27;l2&#x27;]},\n",
       "             verbose=1)</pre><b>In a Jupyter environment, please rerun this cell to show the HTML representation or trust the notebook. <br />On GitHub, the HTML representation is unable to render, please try loading this page with nbviewer.org.</b></div><div class=\"sk-container\" hidden><div class=\"sk-item sk-dashed-wrapped\"><div class=\"sk-label-container\"><div class=\"sk-label sk-toggleable\"><input class=\"sk-toggleable__control sk-hidden--visually\" id=\"sk-estimator-id-1\" type=\"checkbox\" ><label for=\"sk-estimator-id-1\" class=\"sk-toggleable__label sk-toggleable__label-arrow\">GridSearchCV</label><div class=\"sk-toggleable__content\"><pre>GridSearchCV(estimator=LinearSVC(),\n",
       "             param_grid={&#x27;C&#x27;: [1e-06, 1e-08, 0.01, 1],\n",
       "                         &#x27;class_weight&#x27;: [None, &#x27;balanced&#x27;],\n",
       "                         &#x27;penalty&#x27;: [&#x27;l1&#x27;, &#x27;l2&#x27;]},\n",
       "             verbose=1)</pre></div></div></div><div class=\"sk-parallel\"><div class=\"sk-parallel-item\"><div class=\"sk-item\"><div class=\"sk-label-container\"><div class=\"sk-label sk-toggleable\"><input class=\"sk-toggleable__control sk-hidden--visually\" id=\"sk-estimator-id-2\" type=\"checkbox\" ><label for=\"sk-estimator-id-2\" class=\"sk-toggleable__label sk-toggleable__label-arrow\">estimator: LinearSVC</label><div class=\"sk-toggleable__content\"><pre>LinearSVC()</pre></div></div></div><div class=\"sk-serial\"><div class=\"sk-item\"><div class=\"sk-estimator sk-toggleable\"><input class=\"sk-toggleable__control sk-hidden--visually\" id=\"sk-estimator-id-3\" type=\"checkbox\" ><label for=\"sk-estimator-id-3\" class=\"sk-toggleable__label sk-toggleable__label-arrow\">LinearSVC</label><div class=\"sk-toggleable__content\"><pre>LinearSVC()</pre></div></div></div></div></div></div></div></div></div></div>"
      ],
      "text/plain": [
       "GridSearchCV(estimator=LinearSVC(),\n",
       "             param_grid={'C': [1e-06, 1e-08, 0.01, 1],\n",
       "                         'class_weight': [None, 'balanced'],\n",
       "                         'penalty': ['l1', 'l2']},\n",
       "             verbose=1)"
      ]
     },
     "execution_count": 28,
     "metadata": {},
     "output_type": "execute_result"
    }
   ],
   "source": [
    "param_grid = {'C':[0.000001, 0.00000001, 0.01, 1], 'penalty':['l1', 'l2'], 'class_weight':[None, 'balanced']}\n",
    "sv = LinearSVC()\n",
    "grid = GridSearchCV(sv, param_grid, verbose = 1)\n",
    "#grid.fit(shuffled_mnist_data, shuffled_mnist_labels)"
   ]
  },
  {
   "cell_type": "code",
   "execution_count": 30,
   "metadata": {},
   "outputs": [
    {
     "name": "stdout",
     "output_type": "stream",
     "text": [
      "Fitting 5 folds for each of 32 candidates, totalling 160 fits\n"
     ]
    }
   ],
   "source": [
    "#param_grid = {'C':[0.000001, 0.0001, 0.01, 1], 'kernel':['rbf', 'poly'], 'degree':[3,4], 'class_weight':[None, 'balanced']}\n",
    "#sv = SVC()\n",
    "#grid = GridSearchCV(sv, param_grid, verbose = 1)\n",
    "#master_mnist = master_mnist.reshape(len(master_mnist), -1)\n",
    "#grid.fit(master_mnist, master_mnist_labels)\n",
    "#grid.best_params_"
   ]
  },
  {
   "cell_type": "code",
   "execution_count": 30,
   "metadata": {},
   "outputs": [
    {
     "data": {
      "text/plain": [
       "0.90966"
      ]
     },
     "execution_count": 30,
     "metadata": {},
     "output_type": "execute_result"
    }
   ],
   "source": [
    "#grid.best_score_"
   ]
  },
  {
   "cell_type": "code",
   "execution_count": 15,
   "metadata": {},
   "outputs": [],
   "source": [
    "from sklearn.svm import SVC\n",
    "master_mnist = master_mnist.reshape(len(master_mnist), -1)\n",
    "#final_sv = LinearSVC(C = 0.000001, class_weight = 'balanced')\n",
    "final_sv = SVC(kernel = 'rbf', class_weight = 'balanced')\n",
    "\n",
    "final_sv.fit(master_mnist, master_mnist_labels)\n",
    "y_finals = final_sv.predict(data['test_data'].reshape(len(data['test_data']), -1))\n",
    "results_to_csv(y_finals)"
   ]
  },
  {
   "cell_type": "markdown",
   "metadata": {},
   "source": [
    "Attempt to create bag of words"
   ]
  },
  {
   "cell_type": "code",
   "execution_count": 150,
   "metadata": {},
   "outputs": [],
   "source": [
    "import os\n",
    "import glob\n",
    "spam_data = []\n",
    "#for filename in os.listdir(\"/Users/alitout/Desktop/VSCode_Work/CS189/hw1/data/spam\"):\n",
    "for filename in glob.glob(\"/Users/alitout/Desktop/VSCode_Work/CS189/hw1/data/spam/\" + '*.txt'):\n",
    "    #with open(os.path.join(os.getcwd(), filename), 'r') as f:\n",
    "    with open(filename, 'r', encoding='utf-8', errors='ignore') as f:\n",
    "        try:\n",
    "            text = f.read() # Read in text from file\n",
    "        except Exception as e:\n",
    "            # skip files we have trouble reading.\n",
    "            continue\n",
    "        text = text.replace('\\r\\n', ' ')\n",
    "        spam_data.append(text)"
   ]
  },
  {
   "cell_type": "code",
   "execution_count": 151,
   "metadata": {},
   "outputs": [],
   "source": [
    "ham_data = []\n",
    "#for filename in os.listdir(\"/Users/alitout/Desktop/VSCode_Work/CS189/hw1/data/spam\"):\n",
    "for filename in glob.glob(\"/Users/alitout/Desktop/VSCode_Work/CS189/hw1/data/ham/\" + '*.txt'):\n",
    "    #with open(os.path.join(os.getcwd(), filename), 'r') as f:\n",
    "    with open(filename, 'r', encoding='utf-8', errors='ignore') as f:\n",
    "        try:\n",
    "            text = f.read() # Read in text from file\n",
    "        except Exception as e:\n",
    "            # skip files we have trouble reading.\n",
    "            continue\n",
    "        text = text.replace('\\r\\n', ' ')\n",
    "        ham_data.append(text)"
   ]
  },
  {
   "cell_type": "code",
   "execution_count": 152,
   "metadata": {},
   "outputs": [
    {
     "data": {
      "text/html": [
       "<div>\n",
       "<style scoped>\n",
       "    .dataframe tbody tr th:only-of-type {\n",
       "        vertical-align: middle;\n",
       "    }\n",
       "\n",
       "    .dataframe tbody tr th {\n",
       "        vertical-align: top;\n",
       "    }\n",
       "\n",
       "    .dataframe thead th {\n",
       "        text-align: right;\n",
       "    }\n",
       "</style>\n",
       "<table border=\"1\" class=\"dataframe\">\n",
       "  <thead>\n",
       "    <tr style=\"text-align: right;\">\n",
       "      <th></th>\n",
       "      <th>data</th>\n",
       "      <th>label</th>\n",
       "    </tr>\n",
       "  </thead>\n",
       "  <tbody>\n",
       "    <tr>\n",
       "      <th>0</th>\n",
       "      <td>Subject: nom change for gas day 22\\n- - - - - ...</td>\n",
       "      <td>0.0</td>\n",
       "    </tr>\n",
       "    <tr>\n",
       "      <th>1</th>\n",
       "      <td>Subject: re : deal 156071 feb 00\\ndaren ,\\ni m...</td>\n",
       "      <td>0.0</td>\n",
       "    </tr>\n",
       "    <tr>\n",
       "      <th>2</th>\n",
       "      <td>Subject: re : noms / actuals for 4 / 27 / 01 t...</td>\n",
       "      <td>0.0</td>\n",
       "    </tr>\n",
       "    <tr>\n",
       "      <th>3</th>\n",
       "      <td>Subject: re : june 00 production - o ' connor ...</td>\n",
       "      <td>0.0</td>\n",
       "    </tr>\n",
       "    <tr>\n",
       "      <th>4</th>\n",
       "      <td>Subject: wellheads\\ndaren , cody has a new wel...</td>\n",
       "      <td>0.0</td>\n",
       "    </tr>\n",
       "  </tbody>\n",
       "</table>\n",
       "</div>"
      ],
      "text/plain": [
       "                                                data  label\n",
       "0  Subject: nom change for gas day 22\\n- - - - - ...    0.0\n",
       "1  Subject: re : deal 156071 feb 00\\ndaren ,\\ni m...    0.0\n",
       "2  Subject: re : noms / actuals for 4 / 27 / 01 t...    0.0\n",
       "3  Subject: re : june 00 production - o ' connor ...    0.0\n",
       "4  Subject: wellheads\\ndaren , cody has a new wel...    0.0"
      ]
     },
     "execution_count": 152,
     "metadata": {},
     "output_type": "execute_result"
    }
   ],
   "source": [
    "import numpy as np\n",
    "import pandas as pd\n",
    "df_spam = pd.DataFrame(spam_data, columns = ['data'])\n",
    "df_ham = pd.DataFrame(ham_data, columns = ['data'])\n",
    "df_spam['label'] = np.ones(len(spam_data))\n",
    "df_ham['label'] = np.zeros(len(ham_data))\n",
    "df = pd.concat([df_ham, df_spam])\n",
    "df = df.reset_index(drop = True)\n",
    "df.head()"
   ]
  },
  {
   "cell_type": "code",
   "execution_count": 153,
   "metadata": {},
   "outputs": [],
   "source": [
    "from sklearn.feature_extraction.text import CountVectorizer, TfidfTransformer\n",
    "from sklearn.model_selection import train_test_split\n",
    "from sklearn.pipeline import Pipeline\n",
    "from sklearn.svm import SVC\n",
    "X_train, X_test, y_train, y_test = train_test_split(df['data'], df['label'], test_size=0.20, random_state=42)\n",
    "text_clf = Pipeline([\n",
    "     ('vect', CountVectorizer()),\n",
    "     ('tfidf', TfidfTransformer()),\n",
    "     ('clf', SVC(C = 100, kernel = 'rbf')),\n",
    " ])\n",
    "\n",
    "text_clf.fit(X_train, y_train)\n",
    "y_pred = text_clf.predict(X_test)"
   ]
  },
  {
   "cell_type": "code",
   "execution_count": 154,
   "metadata": {},
   "outputs": [
    {
     "data": {
      "text/plain": [
       "0.9820359281437125"
      ]
     },
     "execution_count": 154,
     "metadata": {},
     "output_type": "execute_result"
    }
   ],
   "source": [
    "evaluation(y_test.to_numpy(), y_pred)"
   ]
  },
  {
   "cell_type": "code",
   "execution_count": 155,
   "metadata": {},
   "outputs": [],
   "source": [
    "test_data = []\n",
    "#for filename in os.listdir(\"/Users/alitout/Desktop/VSCode_Work/CS189/hw1/data/spam\"):\n",
    "for filename in [\"/Users/alitout/Desktop/VSCode_Work/CS189/hw1/data/test/\" + str(x) + '.txt' for x in range(1000)]:\n",
    "    #with open(os.path.join(os.getcwd(), filename), 'r') as f:\n",
    "    with open(filename, 'r', encoding='utf-8', errors='ignore') as f:\n",
    "        try:\n",
    "            text = f.read() # Read in text from file\n",
    "        except Exception as e:\n",
    "            # skip files we have trouble reading.\n",
    "            continue\n",
    "        text = text.replace('\\r\\n', ' ')\n",
    "        test_data.append(text)"
   ]
  },
  {
   "cell_type": "code",
   "execution_count": 157,
   "metadata": {},
   "outputs": [],
   "source": [
    "text_clf_2 = Pipeline([\n",
    "     ('vect', CountVectorizer()),\n",
    "     ('tfidf', TfidfTransformer()),\n",
    "     ('clf', SVC(kernel = 'rbf', C = 100)),\n",
    " ])\n",
    "text_clf_2.fit(df['data'].to_numpy(), df['label'].to_numpy())\n",
    "y_finals = text_clf_2.predict(np.array(test_data))\n",
    "results_to_csv(y_finals)"
   ]
  },
  {
   "cell_type": "code",
   "execution_count": null,
   "metadata": {},
   "outputs": [],
   "source": [
    "import sys\n",
    "if sys.version_info[0] < 3:\n",
    "    raise Exception(\"Python 3 not detected.\")\n",
    "import numpy as np\n",
    "import matplotlib.pyplot as plt\n",
    "from sklearn import svm\n",
    "from scipy import io\n",
    "if __name__ == \"__main__\":\n",
    "    for data_name in [\"mnist\", \"spam\", \"toy\"]:\n",
    "        data = np.load(f\"../data/{data_name}-data.npz\")\n",
    "        print(\"\\nloaded %s data!\" % data_name)\n",
    "        fields = \"test_data\", \"training_data\", \"training_labels\"\n",
    "        for field in fields:\n",
    "            print(field, data[field].shape)"
   ]
  }
 ],
 "metadata": {
  "kernelspec": {
   "display_name": "Python 3.10.5 64-bit",
   "language": "python",
   "name": "python3"
  },
  "language_info": {
   "codemirror_mode": {
    "name": "ipython",
    "version": 3
   },
   "file_extension": ".py",
   "mimetype": "text/x-python",
   "name": "python",
   "nbconvert_exporter": "python",
   "pygments_lexer": "ipython3",
   "version": "3.10.5"
  },
  "orig_nbformat": 4,
  "vscode": {
   "interpreter": {
    "hash": "aee8b7b246df8f9039afb4144a1f6fd8d2ca17a180786b69acc140d282b71a49"
   }
  }
 },
 "nbformat": 4,
 "nbformat_minor": 2
}
